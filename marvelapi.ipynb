{
  "nbformat": 4,
  "nbformat_minor": 0,
  "metadata": {
    "colab": {
      "provenance": []
    },
    "kernelspec": {
      "name": "python3",
      "display_name": "Python 3"
    },
    "language_info": {
      "name": "python"
    }
  },
  "cells": [
    {
      "cell_type": "code",
      "source": [
        "!pip install marvel\n",
        "!pip install key"
      ],
      "metadata": {
        "colab": {
          "base_uri": "https://localhost:8080/"
        },
        "id": "AOMBATbjzpEh",
        "outputId": "88edfb93-d0dd-4f67-ef98-5d73076a5040"
      },
      "execution_count": null,
      "outputs": [
        {
          "output_type": "stream",
          "name": "stdout",
          "text": [
            "Looking in indexes: https://pypi.org/simple, https://us-python.pkg.dev/colab-wheels/public/simple/\n",
            "Requirement already satisfied: marvel in /usr/local/lib/python3.8/dist-packages (0.1.0)\n",
            "Requirement already satisfied: requests==2.20.0 in /usr/local/lib/python3.8/dist-packages (from marvel) (2.20.0)\n",
            "Requirement already satisfied: urllib3<1.25,>=1.21.1 in /usr/local/lib/python3.8/dist-packages (from requests==2.20.0->marvel) (1.24.3)\n",
            "Requirement already satisfied: chardet<3.1.0,>=3.0.2 in /usr/local/lib/python3.8/dist-packages (from requests==2.20.0->marvel) (3.0.4)\n",
            "Requirement already satisfied: idna<2.8,>=2.5 in /usr/local/lib/python3.8/dist-packages (from requests==2.20.0->marvel) (2.7)\n",
            "Requirement already satisfied: certifi>=2017.4.17 in /usr/local/lib/python3.8/dist-packages (from requests==2.20.0->marvel) (2022.12.7)\n",
            "Looking in indexes: https://pypi.org/simple, https://us-python.pkg.dev/colab-wheels/public/simple/\n",
            "Collecting key\n",
            "  Downloading key-0.4.tar.gz (1.9 kB)\n",
            "  Preparing metadata (setup.py) ... \u001b[?25l\u001b[?25hdone\n",
            "Building wheels for collected packages: key\n",
            "  Building wheel for key (setup.py) ... \u001b[?25l\u001b[?25hdone\n",
            "  Created wheel for key: filename=key-0.4-py3-none-any.whl size=2406 sha256=1553827e7be5ef3b480b1e26615804227434cb34f18fcdc97a12b6cf3874c49e\n",
            "  Stored in directory: /root/.cache/pip/wheels/a1/c2/d2/5961dc63978408c9441bb8dad8884007626663b8ef18d0780f\n",
            "Successfully built key\n",
            "Installing collected packages: key\n",
            "Successfully installed key-0.4\n"
          ]
        }
      ]
    },
    {
      "cell_type": "code",
      "execution_count": null,
      "metadata": {
        "colab": {
          "base_uri": "https://localhost:8080/"
        },
        "id": "Qpw2GCSRy7gs",
        "outputId": "3385b84b-30fa-4fd3-9c92-5e12b7feebe4"
      },
      "outputs": [
        {
          "output_type": "stream",
          "name": "stdout",
          "text": [
            "3-D Man\n",
            "A-Bomb (HAS)\n",
            "A.I.M.\n",
            "Aaron Stack\n",
            "Abomination (Emil Blonsky)\n",
            "Abomination (Ultimate)\n",
            "Absorbing Man\n",
            "Abyss\n",
            "Abyss (Age of Apocalypse)\n",
            "Adam Destine\n",
            "Adam Warlock\n",
            "Aegis (Trey Rollins)\n",
            "Aero (Aero)\n",
            "Agatha Harkness\n",
            "Agent Brand\n",
            "Agent X (Nijo)\n",
            "Agent Zero\n",
            "Agents of Atlas\n",
            "Aginar\n",
            "Air-Walker (Gabriel Lan)\n"
          ]
        }
      ],
      "source": [
        "from marvel import Marvel\n",
        "\n",
        "\n",
        "marvel = Marvel(PUBLIC_KEY=\"8efd1e7bc10b81f6d5ec6c49ff929667\", \n",
        "                PRIVATE_KEY=\"b15e6561ea8ffea4e41f2052ba2f1926a7c5eb3d\")\n",
        "\n",
        "characters = marvel.characters\n",
        "\n",
        "my_char = characters.all()[\"data\"][\"results\"]\n",
        "dr = characters.all()\n",
        "#for char in my_char:\n",
        "#    print(char[\"id\"], char[\"name\"])\n",
        "#    for comic in char[\"comics\"][\"items\"]:\n",
        "#        print(comic[\"name\"])\n",
        "#    print(\"---------------------\")\n",
        "\n",
        "\n",
        "#print(all_characters)\n",
        "\n",
        "for charr in my_char:\n",
        "  print(charr[\"name\"])\n",
        "\n",
        "\n"
      ]
    },
    {
      "cell_type": "code",
      "source": [
        "!curl https://gateway.marvel.com/v1/public/characters?apikey=8efd1e7bc10b81f6d5ec6c49ff929667"
      ],
      "metadata": {
        "colab": {
          "base_uri": "https://localhost:8080/"
        },
        "id": "KH9ejMat5RC9",
        "outputId": "9e92c28f-00f3-4c56-e5d2-c265d59d1684"
      },
      "execution_count": null,
      "outputs": [
        {
          "output_type": "stream",
          "name": "stdout",
          "text": [
            "{\"code\":\"MissingParameter\",\"message\":\"You must provide a hash.\"}"
          ]
        }
      ]
    },
    {
      "cell_type": "code",
      "source": [
        "print(marvel.characters)"
      ],
      "metadata": {
        "colab": {
          "base_uri": "https://localhost:8080/"
        },
        "id": "zjA2qhUn7ZsB",
        "outputId": "0af11902-ee6f-4462-b18d-03e6ebb3bc86"
      },
      "execution_count": null,
      "outputs": [
        {
          "output_type": "stream",
          "name": "stdout",
          "text": [
            "<marvel.modules.characters.Characters object at 0x7fb9863e2c10>\n"
          ]
        }
      ]
    },
    {
      "cell_type": "code",
      "source": [
        "!pip install marvelous"
      ],
      "metadata": {
        "colab": {
          "base_uri": "https://localhost:8080/"
        },
        "id": "K9ANuUhX8E9m",
        "outputId": "d54f2a72-6a79-4583-e5f4-d6385ae808cc"
      },
      "execution_count": null,
      "outputs": [
        {
          "output_type": "stream",
          "name": "stdout",
          "text": [
            "Looking in indexes: https://pypi.org/simple, https://us-python.pkg.dev/colab-wheels/public/simple/\n",
            "Collecting marvelous\n",
            "  Downloading marvelous-1.4.3-py3-none-any.whl (13 kB)\n",
            "Collecting requests<3.0.0,>=2.26.0\n",
            "  Downloading requests-2.28.1-py3-none-any.whl (62 kB)\n",
            "\u001b[2K     \u001b[90m━━━━━━━━━━━━━━━━━━━━━━━━━━━━━━━━━━━━━━━━\u001b[0m \u001b[32m62.8/62.8 KB\u001b[0m \u001b[31m11.1 MB/s\u001b[0m eta \u001b[36m0:00:00\u001b[0m\n",
            "\u001b[?25hRequirement already satisfied: marshmallow<4.0.0,>=3.13.0 in /usr/local/lib/python3.8/dist-packages (from marvelous) (3.19.0)\n",
            "Requirement already satisfied: packaging>=17.0 in /usr/local/lib/python3.8/dist-packages (from marshmallow<4.0.0,>=3.13.0->marvelous) (21.3)\n",
            "Requirement already satisfied: charset-normalizer<3,>=2 in /usr/local/lib/python3.8/dist-packages (from requests<3.0.0,>=2.26.0->marvelous) (2.1.1)\n",
            "Requirement already satisfied: certifi>=2017.4.17 in /usr/local/lib/python3.8/dist-packages (from requests<3.0.0,>=2.26.0->marvelous) (2022.12.7)\n",
            "Requirement already satisfied: idna<4,>=2.5 in /usr/local/lib/python3.8/dist-packages (from requests<3.0.0,>=2.26.0->marvelous) (2.7)\n",
            "Requirement already satisfied: urllib3<1.27,>=1.21.1 in /usr/local/lib/python3.8/dist-packages (from requests<3.0.0,>=2.26.0->marvelous) (1.24.3)\n",
            "Requirement already satisfied: pyparsing!=3.0.5,>=2.0.2 in /usr/local/lib/python3.8/dist-packages (from packaging>=17.0->marshmallow<4.0.0,>=3.13.0->marvelous) (3.0.9)\n",
            "Installing collected packages: requests, marvelous\n",
            "  Attempting uninstall: requests\n",
            "    Found existing installation: requests 2.20.0\n",
            "    Uninstalling requests-2.20.0:\n",
            "      Successfully uninstalled requests-2.20.0\n",
            "\u001b[31mERROR: pip's dependency resolver does not currently take into account all the packages that are installed. This behaviour is the source of the following dependency conflicts.\n",
            "marvel 0.1.0 requires requests==2.20.0, but you have requests 2.28.1 which is incompatible.\u001b[0m\u001b[31m\n",
            "\u001b[0mSuccessfully installed marvelous-1.4.3 requests-2.28.1\n"
          ]
        }
      ]
    },
    {
      "cell_type": "code",
      "source": [
        "\n",
        "import marvelous\n",
        "# Authenticate with Marvel, with keys I got from http://developer.marvel.com/\n",
        "PUBLIC_KEY=\"8efd1e7bc10b81f6d5ec6c49ff929667\"\n",
        "PRIVATE_KEY=\"b15e6561ea8ffea4e41f2052ba2f1926a7c5eb3d\"\n",
        "m = marvelous.api(PUBLIC_KEY, PRIVATE_KEY)\n",
        "\n",
        "# Get all comics from this week, sorted alphabetically by title\n",
        "pulls = sorted(m.comics({\n",
        "    'format': \"comic\",\n",
        "    'formatType': \"comic\",\n",
        "    'noVariants': True,\n",
        "    'dateDescriptor': \"thisWeek\",\n",
        "    'limit': 100}),\n",
        "    key=lambda comic: comic.title)\n",
        "\n",
        "for comic in pulls:\n",
        "    # Write a line to the file with the name of the issue, and the\n",
        "    # id of the series\n",
        "    print('{} (series #{} )'.format(comic.title, comic.series.id))"
      ],
      "metadata": {
        "colab": {
          "base_uri": "https://localhost:8080/"
        },
        "id": "UjqQEWL38Jfr",
        "outputId": "437da529-47a8-445f-ca1c-dfb1d68c5fe9"
      },
      "execution_count": null,
      "outputs": [
        {
          "output_type": "stream",
          "name": "stdout",
          "text": [
            "Avengers: War Across Time (2023) #1 (series #30517 )\n",
            "Black Panther (2021) #13 (series #31553 )\n",
            "Captain America: Symbol of Truth (2022) #9 (series #34023 )\n",
            "Carnage (2022) #9 (series #33904 )\n",
            "Daredevil (2022) #7 (series #34624 )\n",
            "Dark Web: Ms. Marvel (2022) #2 (series #36207 )\n",
            "Ghost Rider (2022) #10 (series #31224 )\n",
            "INCREDIBLE HULK 1 FACSIMILE EDITION [NEW PRINTING] (2022) #1 (series #35502 )\n",
            "Legion of X (2022) #9 (series #33959 )\n",
            "Mary Jane & Black Cat (2022) #2 (series #35521 )\n",
            "Miles Morales: Spider-Man (2022) #2 (series #35645 )\n",
            "Monica Rambeau: Photon (2022) #2 (series #34718 )\n",
            "Moon Girl (2022) #2 (series #32124 )\n",
            "Moon Knight (2021) #19 (series #32071 )\n",
            "Predator (2022) #6 (series #30873 )\n",
            "Savage Avengers (2022) #9 (series #34084 )\n",
            "Star Wars: Darth Vader (2020) #30 (series #28376 )\n",
            "Star Wars: The High Republic (2022) #4 (series #34559 )\n",
            "Star Wars: The Mandalorian (2022) #7 (series #31308 )\n",
            "The Amazing Spider-Man (2022) #17 (series #32866 )\n",
            "Tiger Division (2022) #3 (series #34277 )\n",
            "Wolverine (2020) #29 (series #28051 )\n",
            "X-Men (2021) #18 (series #31324 )\n"
          ]
        }
      ]
    },
    {
      "cell_type": "code",
      "source": [
        "import argparse\n",
        "import requests\n",
        "import time\n",
        "import hashlib\n",
        "import json\n",
        "!pip install singer-python\n",
        "#Let's get Singer stuff\n",
        "import singer\n",
        "import urllib.request\n",
        "from datetime import datetime, timezone\n",
        "\n",
        "import argparse\n",
        "import requests\n",
        "import time\n",
        "import hashlib\n",
        "import json\n",
        "\n",
        "#Let's get Singer stuff\n",
        "import singer\n",
        "import urllib.request\n",
        "from datetime import datetime, timezone\n",
        "\n",
        "#let's setup to get the config file for the keys\n",
        "PUBLIC_KEY=\"8efd1e7bc10b81f6d5ec6c49ff929667\"\n",
        "PRIVATE_KEY=\"b15e6561ea8ffea4e41f2052ba2f1926a7c5eb3d\"\n",
        "REQUIRED_CONFIG_KEYS = ['b15e6561ea8ffea4e41f2052ba2f1926a7c5eb3d', '8efd1e7bc10b81f6d5ec6c49ff929667']\n",
        "CONFIG = {}\n",
        "\n",
        "#let's hold our info in f\n",
        "def load_json(path):\n",
        "  with open(path) as f:\n",
        "    return json.load(f)\n",
        "\n",
        "#add to the command line so we can talk to the config file\n",
        "def parse_args(required_config_keys):\n",
        "    parser = argparse.ArgumentParser()\n",
        "    parser.add_argument('-c', '--config', help='Config file', required=True)\n",
        "    #parser.add_argument('-s', '--state', help='State file')\n",
        "    args = parser.parse_args()\n",
        "\n",
        "    config = load_json(args.config)\n",
        "    check_config(config, required_config_keys)\n",
        "\n",
        "    return config\n",
        "\n",
        "#make sure we have our keys\n",
        "def check_config(config, required_keys):\n",
        "    missing_keys = [key for key in required_keys if key not in config]\n",
        "    if missing_keys:\n",
        "        raise Exception(\"Config is missing required keys: {}\".format(missing_keys)) \n",
        "\n",
        "#let's get marvel going\n",
        "def get_characters():\n",
        "  marvel_limit = 100\n",
        "  offset = 0\n",
        "\n",
        "#Format the time\n",
        "  t = time.strftime(\"%Y%d%m%H%M%S\")\n",
        "  m = hashlib.md5()\n",
        "\n",
        "  m.update(\"{}{}{}\".format(t, CONFIG['8efd1e7bc10b81f6d5ec6c49ff929667'], CONFIG['8efd1e7bc10b81f6d5ec6c49ff929667']).encode(\"utf-8\"))\n",
        "\n",
        "  hash = m.hexdigest()\n",
        "\n",
        "#Now let's get Singer going\n",
        "  schema = {'type': 'object',\n",
        "  'properties': \n",
        "    { \n",
        "    'id': {'type': 'integer'},\n",
        "    'name': {'type': 'string'},\n",
        "    'modified': {'type': 'string', 'format': 'date-time'}\n",
        "    }}\n",
        "\n",
        "  singer.write_schema('characters', schema, 'id')\n",
        "\n",
        "#call the api and get records until there aren't anymore\n",
        "  while True:\n",
        "  \tresponse = requests.get('https://gateway.marvel.com:443/v1/public/characters?orderBy=modified&apikey={}&ts={}&hash={}&limit={}&offset={}'.format(CONFIG['8efd1e7bc10b81f6d5ec6c49ff929667'],t,hash,marvel_limit,offset))\n",
        "\n",
        "  \tbody = response.json()['data']\n",
        "\n",
        "  \tsinger.write_records('characters', body['results'])\t\t\n",
        "  \t\n",
        "  \toffset = offset + marvel_limit\n",
        "\n",
        "  \tif body['count'] < marvel_limit:\n",
        "           break\n",
        "\n",
        "#run this puppy\n",
        "def main():\n",
        "  CONFIG.update(parse_args(REQUIRED_CONFIG_KEYS))\n",
        "  get_characters()\n",
        "\n",
        "\n",
        "#do main first\n",
        "if __name__ == '__main__':\n",
        "  main()\n",
        "\n"
      ],
      "metadata": {
        "colab": {
          "base_uri": "https://localhost:8080/",
          "height": 339
        },
        "id": "vsO385M5SHNq",
        "outputId": "457eb37b-96e2-48ba-d32f-af10293f7ebf"
      },
      "execution_count": null,
      "outputs": [
        {
          "output_type": "stream",
          "name": "stdout",
          "text": [
            "Looking in indexes: https://pypi.org/simple, https://us-python.pkg.dev/colab-wheels/public/simple/\n",
            "Requirement already satisfied: singer-python in /usr/local/lib/python3.8/dist-packages (5.13.0)\n",
            "Requirement already satisfied: jsonschema==2.6.0 in /usr/local/lib/python3.8/dist-packages (from singer-python) (2.6.0)\n",
            "Requirement already satisfied: python-dateutil>=2.6.0 in /usr/local/lib/python3.8/dist-packages (from singer-python) (2.8.2)\n",
            "Requirement already satisfied: pytz>=2018.4 in /usr/local/lib/python3.8/dist-packages (from singer-python) (2022.7)\n",
            "Requirement already satisfied: backoff==1.8.0 in /usr/local/lib/python3.8/dist-packages (from singer-python) (1.8.0)\n",
            "Requirement already satisfied: ciso8601 in /usr/local/lib/python3.8/dist-packages (from singer-python) (2.3.0)\n",
            "Requirement already satisfied: simplejson==3.11.1 in /usr/local/lib/python3.8/dist-packages (from singer-python) (3.11.1)\n",
            "Requirement already satisfied: six>=1.5 in /usr/local/lib/python3.8/dist-packages (from python-dateutil>=2.6.0->singer-python) (1.15.0)\n"
          ]
        },
        {
          "output_type": "stream",
          "name": "stderr",
          "text": [
            "usage: ipykernel_launcher.py [-h] -c CONFIG\n",
            "ipykernel_launcher.py: error: the following arguments are required: -c/--config\n"
          ]
        },
        {
          "output_type": "error",
          "ename": "SystemExit",
          "evalue": "ignored",
          "traceback": [
            "An exception has occurred, use %tb to see the full traceback.\n",
            "\u001b[0;31mSystemExit\u001b[0m\u001b[0;31m:\u001b[0m 2\n"
          ]
        },
        {
          "output_type": "stream",
          "name": "stderr",
          "text": [
            "/usr/local/lib/python3.8/dist-packages/IPython/core/interactiveshell.py:3334: UserWarning: To exit: use 'exit', 'quit', or Ctrl-D.\n",
            "  warn(\"To exit: use 'exit', 'quit', or Ctrl-D.\", stacklevel=1)\n"
          ]
        }
      ]
    }
  ]
}